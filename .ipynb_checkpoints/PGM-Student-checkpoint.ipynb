{
 "cells": [
  {
   "cell_type": "code",
   "execution_count": 2,
   "metadata": {},
   "outputs": [],
   "source": [
    "from pgmpy.models import BayesianModel\n",
    "from pgmpy.factors.discrete import TabularCPD"
   ]
  },
  {
   "cell_type": "code",
   "execution_count": 3,
   "metadata": {},
   "outputs": [],
   "source": [
    "student = BayesianModel()\n",
    "student.add_nodes_from(['diff', 'intel', 'grade','sat','letter','apply','job'])\n",
    "student.add_edges_from([('diff', 'grade'), ('intel', 'grade'), ('intel', 'sat'), ('grade', 'letter'),('apply', 'job'),('letter','job'),('sat','job')])\n"
   ]
  },
  {
   "cell_type": "code",
   "execution_count": 4,
   "metadata": {},
   "outputs": [
    {
     "name": "stdout",
     "output_type": "stream",
     "text": [
      "+--------+-----+\n",
      "| diff_0 | 0.6 |\n",
      "+--------+-----+\n",
      "| diff_1 | 0.4 |\n",
      "+--------+-----+\n"
     ]
    }
   ],
   "source": [
    "cpd_diff = TabularCPD('diff',2,[[0.6],\n",
    "                                [0.4]],\n",
    "                                evidence=[], evidence_card=[])\n",
    "print(cpd_diff)"
   ]
  },
  {
   "cell_type": "code",
   "execution_count": 5,
   "metadata": {},
   "outputs": [
    {
     "name": "stdout",
     "output_type": "stream",
     "text": [
      "+---------+-----+\n",
      "| intel_0 | 0.7 |\n",
      "+---------+-----+\n",
      "| intel_1 | 0.3 |\n",
      "+---------+-----+\n"
     ]
    }
   ],
   "source": [
    "cpd_intel = TabularCPD('intel',2,[[0.7],\n",
    "                                [0.3]],\n",
    "                                evidence=[], evidence_card=[])\n",
    "print(cpd_intel)"
   ]
  },
  {
   "cell_type": "code",
   "execution_count": 6,
   "metadata": {},
   "outputs": [
    {
     "name": "stdout",
     "output_type": "stream",
     "text": [
      "+---------+---------+---------+---------+---------+\n",
      "| intel   | intel_0 | intel_0 | intel_1 | intel_1 |\n",
      "+---------+---------+---------+---------+---------+\n",
      "| diff    | diff_0  | diff_1  | diff_0  | diff_1  |\n",
      "+---------+---------+---------+---------+---------+\n",
      "| grade_0 | 0.3     | 0.05    | 0.9     | 0.5     |\n",
      "+---------+---------+---------+---------+---------+\n",
      "| grade_1 | 0.4     | 0.25    | 0.08    | 0.3     |\n",
      "+---------+---------+---------+---------+---------+\n",
      "| grade_2 | 0.3     | 0.7     | 0.02    | 0.2     |\n",
      "+---------+---------+---------+---------+---------+\n"
     ]
    }
   ],
   "source": [
    "cpd_grade = TabularCPD('grade',3,[[0.3,0.05,0.9,0.5],\n",
    "                                    [0.4,0.25,0.08,0.3],\n",
    "                                    [0.3,0.7,0.02,0.2]],\n",
    "                                    evidence=['intel', 'diff'], evidence_card=[2,2])\n",
    "print(cpd_grade)"
   ]
  },
  {
   "cell_type": "code",
   "execution_count": 7,
   "metadata": {},
   "outputs": [
    {
     "name": "stdout",
     "output_type": "stream",
     "text": [
      "+-------+---------+---------+\n",
      "| intel | intel_0 | intel_1 |\n",
      "+-------+---------+---------+\n",
      "| sat_0 | 0.95    | 0.2     |\n",
      "+-------+---------+---------+\n",
      "| sat_1 | 0.05    | 0.8     |\n",
      "+-------+---------+---------+\n"
     ]
    }
   ],
   "source": [
    "cpd_sat = TabularCPD('sat',2,[[0.95, 0.2],\n",
    "                              [0.05, 0.8]],\n",
    "                              evidence=['intel'], evidence_card=[2])\n",
    "print(cpd_sat)"
   ]
  },
  {
   "cell_type": "code",
   "execution_count": 8,
   "metadata": {},
   "outputs": [
    {
     "name": "stdout",
     "output_type": "stream",
     "text": [
      "+----------+---------+---------+---------+\n",
      "| grade    | grade_0 | grade_1 | grade_2 |\n",
      "+----------+---------+---------+---------+\n",
      "| letter_0 | 0.1     | 0.4     | 0.99    |\n",
      "+----------+---------+---------+---------+\n",
      "| letter_1 | 0.9     | 0.6     | 0.01    |\n",
      "+----------+---------+---------+---------+\n"
     ]
    }
   ],
   "source": [
    "cpd_letter = TabularCPD('letter',2,[[0.1, 0.4, 0.99],\n",
    "                                    [0.9, 0.6, 0.01]],\n",
    "                                    evidence=['grade'], evidence_card=[3])\n",
    "print(cpd_letter)"
   ]
  },
  {
   "cell_type": "code",
   "execution_count": 9,
   "metadata": {},
   "outputs": [
    {
     "name": "stdout",
     "output_type": "stream",
     "text": [
      "+---------+-----+\n",
      "| apply_0 | 0.3 |\n",
      "+---------+-----+\n",
      "| apply_1 | 0.7 |\n",
      "+---------+-----+\n"
     ]
    }
   ],
   "source": [
    "cpd_apply = TabularCPD('apply',2,[[0.3],\n",
    "                                  [0.7]],\n",
    "                                  evidence=[], evidence_card=[])\n",
    "print(cpd_apply)"
   ]
  },
  {
   "cell_type": "code",
   "execution_count": 10,
   "metadata": {},
   "outputs": [
    {
     "name": "stdout",
     "output_type": "stream",
     "text": [
      "+--------+----------+----------+----------+----------+----------+----------+----------+----------+\n",
      "| apply  | apply_0  | apply_0  | apply_0  | apply_0  | apply_1  | apply_1  | apply_1  | apply_1  |\n",
      "+--------+----------+----------+----------+----------+----------+----------+----------+----------+\n",
      "| sat    | sat_0    | sat_0    | sat_1    | sat_1    | sat_0    | sat_0    | sat_1    | sat_1    |\n",
      "+--------+----------+----------+----------+----------+----------+----------+----------+----------+\n",
      "| letter | letter_0 | letter_1 | letter_0 | letter_1 | letter_0 | letter_1 | letter_0 | letter_1 |\n",
      "+--------+----------+----------+----------+----------+----------+----------+----------+----------+\n",
      "| job_0  | 0.8      | 0.8      | 0.8      | 0.8      | 0.9      | 0.4      | 0.1      | 0.1      |\n",
      "+--------+----------+----------+----------+----------+----------+----------+----------+----------+\n",
      "| job_1  | 0.2      | 0.2      | 0.2      | 0.2      | 0.1      | 0.6      | 0.9      | 0.9      |\n",
      "+--------+----------+----------+----------+----------+----------+----------+----------+----------+\n"
     ]
    }
   ],
   "source": [
    "cpd_job = TabularCPD('job',2,[[0.8, 0.8, 0.8, 0.8, 0.9, 0.4, 0.1, 0.1],\n",
    "                              [0.2, 0.2, 0.2, 0.2, 0.1, 0.6, 0.9, 0.9]],\n",
    "                              evidence=['apply','sat','letter'], evidence_card=[2,2,2])\n",
    "print(cpd_job)"
   ]
  },
  {
   "cell_type": "code",
   "execution_count": 11,
   "metadata": {},
   "outputs": [],
   "source": [
    "student.add_cpds(cpd_diff,cpd_intel, cpd_grade, cpd_sat, cpd_letter, cpd_apply, cpd_job)"
   ]
  },
  {
   "cell_type": "code",
   "execution_count": 12,
   "metadata": {},
   "outputs": [],
   "source": [
    "from pgmpy.inference import VariableElimination\n",
    "inference = VariableElimination(student)"
   ]
  },
  {
   "cell_type": "code",
   "execution_count": 14,
   "metadata": {},
   "outputs": [
    {
     "name": "stdout",
     "output_type": "stream",
     "text": [
      "{'intel': 0, 'letter': 1, 'diff': 0, 'grade': 0, 'sat': 0, 'job': 0, 'apply': 1}\n"
     ]
    }
   ],
   "source": [
    "mle = inference.map_query(variables={'intel','diff','grade','sat','letter','apply','job'},\n",
    "                          evidence={})\n",
    "print(mle)"
   ]
  },
  {
   "cell_type": "code",
   "execution_count": 16,
   "metadata": {},
   "outputs": [
    {
     "name": "stdout",
     "output_type": "stream",
     "text": [
      "+-------+------------+\n",
      "| job   |   phi(job) |\n",
      "+=======+============+\n",
      "| job_0 |     0.6094 |\n",
      "+-------+------------+\n",
      "| job_1 |     0.3906 |\n",
      "+-------+------------+\n"
     ]
    }
   ],
   "source": [
    "mle = inference.query(variables={'intel','diff','grade','sat','letter','apply','job'},\n",
    "                          evidence={})\n",
    "print(mle['job'])"
   ]
  },
  {
   "cell_type": "markdown",
   "metadata": {},
   "source": [
    "<img src=\"images/1.png\">"
   ]
  },
  {
   "cell_type": "code",
   "execution_count": 21,
   "metadata": {},
   "outputs": [
    {
     "ename": "SyntaxError",
     "evalue": "invalid syntax (<ipython-input-21-8aefd7fd8ed0>, line 1)",
     "output_type": "error",
     "traceback": [
      "\u001b[0;36m  File \u001b[0;32m\"<ipython-input-21-8aefd7fd8ed0>\"\u001b[0;36m, line \u001b[0;32m1\u001b[0m\n\u001b[0;31m    <img src=\"images/2.png\">\u001b[0m\n\u001b[0m    ^\u001b[0m\n\u001b[0;31mSyntaxError\u001b[0m\u001b[0;31m:\u001b[0m invalid syntax\n"
     ]
    }
   ],
   "source": [
    "<img src=\"images/2.png\">"
   ]
  },
  {
   "cell_type": "code",
   "execution_count": 22,
   "metadata": {},
   "outputs": [
    {
     "ename": "SyntaxError",
     "evalue": "invalid syntax (<ipython-input-22-8ffa5ebc45bb>, line 1)",
     "output_type": "error",
     "traceback": [
      "\u001b[0;36m  File \u001b[0;32m\"<ipython-input-22-8ffa5ebc45bb>\"\u001b[0;36m, line \u001b[0;32m1\u001b[0m\n\u001b[0;31m    <img src=\"images/3.png\">\u001b[0m\n\u001b[0m    ^\u001b[0m\n\u001b[0;31mSyntaxError\u001b[0m\u001b[0;31m:\u001b[0m invalid syntax\n"
     ]
    }
   ],
   "source": [
    "<img src=\"images/3.png\">"
   ]
  },
  {
   "cell_type": "code",
   "execution_count": 20,
   "metadata": {},
   "outputs": [
    {
     "ename": "SyntaxError",
     "evalue": "invalid syntax (<ipython-input-20-0f9237355529>, line 1)",
     "output_type": "error",
     "traceback": [
      "\u001b[0;36m  File \u001b[0;32m\"<ipython-input-20-0f9237355529>\"\u001b[0;36m, line \u001b[0;32m1\u001b[0m\n\u001b[0;31m    <img src=\"images/4.png\">\u001b[0m\n\u001b[0m    ^\u001b[0m\n\u001b[0;31mSyntaxError\u001b[0m\u001b[0;31m:\u001b[0m invalid syntax\n"
     ]
    }
   ],
   "source": [
    "<img src=\"images/4.png\">"
   ]
  },
  {
   "cell_type": "code",
   "execution_count": null,
   "metadata": {},
   "outputs": [],
   "source": [
    "<img src=\"images/5.png\">"
   ]
  },
  {
   "cell_type": "code",
   "execution_count": null,
   "metadata": {},
   "outputs": [],
   "source": [
    "mle = inference.map_query(variables={'intel','diff','grade','sat','letter','apply','job'},\n",
    "                          evidence={})\n",
    "print(mle)"
   ]
  },
  {
   "cell_type": "code",
   "execution_count": null,
   "metadata": {},
   "outputs": [],
   "source": [
    "mle = inference.query(variables={'intel','diff','grade','sat','letter','apply','job'},\n",
    "                          evidence={})\n",
    "print(mle['job'])"
   ]
  },
  {
   "cell_type": "code",
   "execution_count": 142,
   "metadata": {},
   "outputs": [],
   "source": [
    "from pgmpy.sampling import BayesianModelSampling"
   ]
  },
  {
   "cell_type": "code",
   "execution_count": 143,
   "metadata": {},
   "outputs": [],
   "source": [
    "from pgmpy.sampling import BayesianModelSampling\n",
    "\n",
    "forward_sampler = BayesianModelSampling(student)\n",
    "samples = forward_sampler.forward_sample(size=200)"
   ]
  },
  {
   "cell_type": "code",
   "execution_count": 155,
   "metadata": {},
   "outputs": [],
   "source": [
    "from pgmpy.models import BayesianModel\n",
    "from pgmpy.factors.discrete import TabularCPD\n",
    "from pgmpy.inference import VariableElimination"
   ]
  },
  {
   "cell_type": "code",
   "execution_count": 156,
   "metadata": {},
   "outputs": [],
   "source": [
    "student = BayesianModel()\n",
    "student.add_nodes_from(['diff', 'intel', 'grade','sat','letter','apply','job'])\n",
    "student.add_edges_from([('diff', 'grade'), \n",
    "                        ('intel', 'grade'), \n",
    "                        ('intel', 'sat'), \n",
    "                        ('grade', 'letter'),\n",
    "                        ('apply', 'job'),\n",
    "                        ('letter','job'),\n",
    "                        ('sat','job')])\n",
    "student.fit(samples)"
   ]
  },
  {
   "cell_type": "code",
   "execution_count": 161,
   "metadata": {},
   "outputs": [
    {
     "name": "stdout",
     "output_type": "stream",
     "text": [
      "+---------+--------------+\n",
      "| intel   |   phi(intel) |\n",
      "+=========+==============+\n",
      "| intel_0 |       0.0854 |\n",
      "+---------+--------------+\n",
      "| intel_1 |       0.9146 |\n",
      "+---------+--------------+\n"
     ]
    }
   ],
   "source": [
    "inference = VariableElimination(student)\n",
    "mpe = inference.query(variables={'intel'},evidence={'job' : 1, 'sat': 1, 'letter': 1})\n",
    "print(mpe['intel'])"
   ]
  },
  {
   "cell_type": "code",
   "execution_count": null,
   "metadata": {},
   "outputs": [],
   "source": []
  }
 ],
 "metadata": {
  "kernelspec": {
   "display_name": "Python 3",
   "language": "python",
   "name": "python3"
  },
  "language_info": {
   "codemirror_mode": {
    "name": "ipython",
    "version": 3
   },
   "file_extension": ".py",
   "mimetype": "text/x-python",
   "name": "python",
   "nbconvert_exporter": "python",
   "pygments_lexer": "ipython3",
   "version": "3.6.5rc1"
  }
 },
 "nbformat": 4,
 "nbformat_minor": 2
}
